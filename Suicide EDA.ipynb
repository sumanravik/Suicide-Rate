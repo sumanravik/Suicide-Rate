{
 "cells": [
  {
   "cell_type": "code",
   "execution_count": 104,
   "metadata": {},
   "outputs": [],
   "source": [
    "import numpy as np\n",
    "import pandas as pd \n",
    "import matplotlib.pyplot as plt\n",
    "%matplotlib inline\n",
    "pd.set_option(\"display.max_rows\",100)\n",
    "pd.set_option(\"display.max_columns\",100)"
   ]
  },
  {
   "cell_type": "code",
   "execution_count": null,
   "metadata": {},
   "outputs": [],
   "source": [
    "suicide = pd.read_csv(\"suicide.csv\")"
   ]
  },
  {
   "cell_type": "code",
   "execution_count": null,
   "metadata": {},
   "outputs": [],
   "source": [
    "suicide.head()"
   ]
  },
  {
   "cell_type": "code",
   "execution_count": null,
   "metadata": {},
   "outputs": [],
   "source": [
    "suicide.describe().round()\n",
    "#suicide.describe().astype(int) - if you want the dataset in integer"
   ]
  },
  {
   "cell_type": "code",
   "execution_count": null,
   "metadata": {},
   "outputs": [],
   "source": [
    "# Converting the integer to 16 bytes\n",
    "numerics = ['int32', 'int64']\n",
    "int_cols = suicide.select_dtypes(include=numerics).columns\n",
    "suicide[int_cols] = suicide[int_cols].astype('int16')\n",
    "\n",
    "#num_cols = suicide._get_numeric_data().columns\n",
    "#suicide._get_numeric_data()"
   ]
  },
  {
   "cell_type": "code",
   "execution_count": null,
   "metadata": {},
   "outputs": [],
   "source": [
    "print(\"The columns in the dataset are: \", suicide.columns)\n",
    "print(\"\\n\\n The datatype of the columns are\", suicide.dtypes)\n",
    "print(\"\\n\\n Shape of the dataset is \", suicide.shape)"
   ]
  },
  {
   "cell_type": "code",
   "execution_count": null,
   "metadata": {},
   "outputs": [],
   "source": [
    "# Checking the memory usage of the dataset\n",
    "print(suicide.memory_usage(deep=True), \"\\n\\n\")\n",
    "print(\"Total memory usage is :\", suicide.memory_usage(deep=True).sum())"
   ]
  },
  {
   "cell_type": "code",
   "execution_count": null,
   "metadata": {},
   "outputs": [],
   "source": [
    "suicide.isnull().sum()"
   ]
  },
  {
   "cell_type": "code",
   "execution_count": null,
   "metadata": {},
   "outputs": [],
   "source": [
    "suicide.drop([\"HDI for year\", \"country-year\"], axis=1, inplace=True)"
   ]
  },
  {
   "cell_type": "code",
   "execution_count": 91,
   "metadata": {},
   "outputs": [
    {
     "name": "stdout",
     "output_type": "stream",
     "text": [
      "Country data: \n",
      " Austria                   382\n",
      "Iceland                   382\n",
      "Netherlands               382\n",
      "Mauritius                 382\n",
      "Chile                     372\n",
      "                         ... \n",
      "Bosnia and Herzegovina     24\n",
      "Dominica                   12\n",
      "Macau                      12\n",
      "Cabo Verde                 12\n",
      "Mongolia                   10\n",
      "Name: country, Length: 101, dtype: int64 \n",
      "\n",
      "\n",
      "\n",
      "Generation data: \n",
      " Generation X       6408\n",
      "Silent             6364\n",
      "Millenials         5844\n",
      "Boomers            4990\n",
      "G.I. Generation    2744\n",
      "Generation Z       1470\n",
      "Name: generation, dtype: int64\n"
     ]
    }
   ],
   "source": [
    "print(\"Country data: \\n\", suicide.country.value_counts(), \"\\n\\n\\n\")\n",
    "print(\"Generation data: \\n\",suicide.generation.value_counts())"
   ]
  },
  {
   "cell_type": "code",
   "execution_count": null,
   "metadata": {},
   "outputs": [],
   "source": []
  },
  {
   "cell_type": "code",
   "execution_count": null,
   "metadata": {},
   "outputs": [],
   "source": [
    "import dtale"
   ]
  },
  {
   "cell_type": "code",
   "execution_count": null,
   "metadata": {},
   "outputs": [],
   "source": [
    "dtale.show(suicide)"
   ]
  },
  {
   "cell_type": "code",
   "execution_count": 120,
   "metadata": {},
   "outputs": [],
   "source": [
    "suicide_age = suicide.drop([\"year\",\"gdp_per_capita ($)\",\"population\"],axis=1).groupby([\"age\"]).sum().reset_index()"
   ]
  },
  {
   "cell_type": "code",
   "execution_count": 138,
   "metadata": {},
   "outputs": [
    {
     "data": {
      "text/html": [
       "<div>\n",
       "<style scoped>\n",
       "    .dataframe tbody tr th:only-of-type {\n",
       "        vertical-align: middle;\n",
       "    }\n",
       "\n",
       "    .dataframe tbody tr th {\n",
       "        vertical-align: top;\n",
       "    }\n",
       "\n",
       "    .dataframe thead th {\n",
       "        text-align: right;\n",
       "    }\n",
       "</style>\n",
       "<table border=\"1\" class=\"dataframe\">\n",
       "  <thead>\n",
       "    <tr style=\"text-align: right;\">\n",
       "      <th></th>\n",
       "      <th>age</th>\n",
       "      <th>suicides_no</th>\n",
       "      <th>suicides/100k pop</th>\n",
       "      <th>age_sort</th>\n",
       "    </tr>\n",
       "  </thead>\n",
       "  <tbody>\n",
       "    <tr>\n",
       "      <th>0</th>\n",
       "      <td>15-24 years</td>\n",
       "      <td>808542.0</td>\n",
       "      <td>41532.69</td>\n",
       "      <td>1</td>\n",
       "    </tr>\n",
       "    <tr>\n",
       "      <th>1</th>\n",
       "      <td>25-34 years</td>\n",
       "      <td>1123912.0</td>\n",
       "      <td>56571.52</td>\n",
       "      <td>3</td>\n",
       "    </tr>\n",
       "    <tr>\n",
       "      <th>2</th>\n",
       "      <td>35-54 years</td>\n",
       "      <td>2452141.0</td>\n",
       "      <td>69386.02</td>\n",
       "      <td>1</td>\n",
       "    </tr>\n",
       "    <tr>\n",
       "      <th>3</th>\n",
       "      <td>5-14 years</td>\n",
       "      <td>52264.0</td>\n",
       "      <td>2858.39</td>\n",
       "      <td>7</td>\n",
       "    </tr>\n",
       "    <tr>\n",
       "      <th>4</th>\n",
       "      <td>55-74 years</td>\n",
       "      <td>1658443.0</td>\n",
       "      <td>74994.20</td>\n",
       "      <td>2</td>\n",
       "    </tr>\n",
       "    <tr>\n",
       "      <th>5</th>\n",
       "      <td>75+ years</td>\n",
       "      <td>653118.0</td>\n",
       "      <td>111201.01</td>\n",
       "      <td>7</td>\n",
       "    </tr>\n",
       "  </tbody>\n",
       "</table>\n",
       "</div>"
      ],
      "text/plain": [
       "           age  suicides_no  suicides/100k pop age_sort\n",
       "0  15-24 years     808542.0           41532.69        1\n",
       "1  25-34 years    1123912.0           56571.52        3\n",
       "2  35-54 years    2452141.0           69386.02        1\n",
       "3   5-14 years      52264.0            2858.39        7\n",
       "4  55-74 years    1658443.0           74994.20        2\n",
       "5    75+ years     653118.0          111201.01        7"
      ]
     },
     "execution_count": 138,
     "metadata": {},
     "output_type": "execute_result"
    }
   ],
   "source": [
    "suicide_age"
   ]
  },
  {
   "cell_type": "code",
   "execution_count": 136,
   "metadata": {},
   "outputs": [],
   "source": [
    "suicide_age['age_sort'] = suicide['age'].astype(str).str[0]"
   ]
  },
  {
   "cell_type": "code",
   "execution_count": 122,
   "metadata": {},
   "outputs": [
    {
     "data": {
      "image/png": "[encoded data removed]",
      "text/plain": [
       "<Figure size 1440x432 with 1 Axes>"
      ]
     },
     "metadata": {
      "needs_background": "dark"
     },
     "output_type": "display_data"
    }
   ],
   "source": [
    "# Plotting Age group vs Suicide count\n",
    "fig = plt.plot(suicide_age_gender[\"age\"], suicide_age_gender[\"suicides_no\"], \n",
    "         label=\"Suicides by Age\", linewidth=\"2\", color= \"r\")\n",
    "plt.rcParams[\"figure.figsize\"] = (20,6)"
   ]
  }
 ],
 "metadata": {
  "kernelspec": {
   "display_name": "Python 3",
   "language": "python",
   "name": "python3"
  },
  "language_info": {
   "codemirror_mode": {
    "name": "ipython",
    "version": 3
   },
   "file_extension": ".py",
   "mimetype": "text/x-python",
   "name": "python",
   "nbconvert_exporter": "python",
   "pygments_lexer": "ipython3",
   "version": "3.7.7"
  }
 },
 "nbformat": 4,
 "nbformat_minor": 4
}
